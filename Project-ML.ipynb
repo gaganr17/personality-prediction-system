{
 "cells": [
  {
   "cell_type": "markdown",
   "id": "c7cb982c",
   "metadata": {},
   "source": [
    "## Libraries used"
   ]
  },
  {
   "cell_type": "code",
   "execution_count": 309,
   "id": "dab49beb",
   "metadata": {},
   "outputs": [],
   "source": [
    "import warnings\n",
    "warnings.filterwarnings(\"ignore\")\n",
    "import numpy as np\n",
    "import pandas as pd\n",
    "import re\n",
    "from matplotlib import pyplot as plt\n",
    "%matplotlib inline\n",
    "import nltk\n",
    "from nltk import WordNetLemmatizer\n",
    "from nltk.corpus import stopwords"
   ]
  },
  {
   "cell_type": "code",
   "execution_count": 310,
   "id": "053bd18d",
   "metadata": {},
   "outputs": [],
   "source": [
    "from sklearn.feature_extraction.text import TfidfVectorizer\n",
    "from sklearn.preprocessing import LabelEncoder\n",
    "from sklearn.model_selection import train_test_split\n",
    "from sklearn.svm import SVC\n",
    "from sklearn.tree import DecisionTreeClassifier"
   ]
  },
  {
   "cell_type": "code",
   "execution_count": 311,
   "id": "f8be11ae",
   "metadata": {},
   "outputs": [
    {
     "data": {
      "text/html": [
       "<div>\n",
       "<style scoped>\n",
       "    .dataframe tbody tr th:only-of-type {\n",
       "        vertical-align: middle;\n",
       "    }\n",
       "\n",
       "    .dataframe tbody tr th {\n",
       "        vertical-align: top;\n",
       "    }\n",
       "\n",
       "    .dataframe thead th {\n",
       "        text-align: right;\n",
       "    }\n",
       "</style>\n",
       "<table border=\"1\" class=\"dataframe\">\n",
       "  <thead>\n",
       "    <tr style=\"text-align: right;\">\n",
       "      <th></th>\n",
       "      <th>type</th>\n",
       "      <th>posts</th>\n",
       "    </tr>\n",
       "  </thead>\n",
       "  <tbody>\n",
       "    <tr>\n",
       "      <th>count</th>\n",
       "      <td>8675</td>\n",
       "      <td>8675</td>\n",
       "    </tr>\n",
       "    <tr>\n",
       "      <th>unique</th>\n",
       "      <td>16</td>\n",
       "      <td>8675</td>\n",
       "    </tr>\n",
       "    <tr>\n",
       "      <th>top</th>\n",
       "      <td>INFP</td>\n",
       "      <td>'http://www.youtube.com/watch?v=qsXHcwe3krw|||...</td>\n",
       "    </tr>\n",
       "    <tr>\n",
       "      <th>freq</th>\n",
       "      <td>1832</td>\n",
       "      <td>1</td>\n",
       "    </tr>\n",
       "  </tbody>\n",
       "</table>\n",
       "</div>"
      ],
      "text/plain": [
       "        type                                              posts\n",
       "count   8675                                               8675\n",
       "unique    16                                               8675\n",
       "top     INFP  'http://www.youtube.com/watch?v=qsXHcwe3krw|||...\n",
       "freq    1832                                                  1"
      ]
     },
     "execution_count": 311,
     "metadata": {},
     "output_type": "execute_result"
    }
   ],
   "source": [
    "data=pd.read_csv(\"mbti_1.csv\")\n",
    "data.describe(include=object)"
   ]
  },
  {
   "cell_type": "code",
   "execution_count": 312,
   "id": "caccd836",
   "metadata": {},
   "outputs": [
    {
     "data": {
      "text/html": [
       "<div>\n",
       "<style scoped>\n",
       "    .dataframe tbody tr th:only-of-type {\n",
       "        vertical-align: middle;\n",
       "    }\n",
       "\n",
       "    .dataframe tbody tr th {\n",
       "        vertical-align: top;\n",
       "    }\n",
       "\n",
       "    .dataframe thead th {\n",
       "        text-align: right;\n",
       "    }\n",
       "</style>\n",
       "<table border=\"1\" class=\"dataframe\">\n",
       "  <thead>\n",
       "    <tr style=\"text-align: right;\">\n",
       "      <th></th>\n",
       "      <th>type</th>\n",
       "      <th>posts</th>\n",
       "    </tr>\n",
       "  </thead>\n",
       "  <tbody>\n",
       "    <tr>\n",
       "      <th>0</th>\n",
       "      <td>INFJ</td>\n",
       "      <td>'http://www.youtube.com/watch?v=qsXHcwe3krw|||...</td>\n",
       "    </tr>\n",
       "    <tr>\n",
       "      <th>1</th>\n",
       "      <td>ENTP</td>\n",
       "      <td>'I'm finding the lack of me in these posts ver...</td>\n",
       "    </tr>\n",
       "    <tr>\n",
       "      <th>2</th>\n",
       "      <td>INTP</td>\n",
       "      <td>'Good one  _____   https://www.youtube.com/wat...</td>\n",
       "    </tr>\n",
       "    <tr>\n",
       "      <th>3</th>\n",
       "      <td>INTJ</td>\n",
       "      <td>'Dear INTP,   I enjoyed our conversation the o...</td>\n",
       "    </tr>\n",
       "    <tr>\n",
       "      <th>4</th>\n",
       "      <td>ENTJ</td>\n",
       "      <td>'You're fired.|||That's another silly misconce...</td>\n",
       "    </tr>\n",
       "  </tbody>\n",
       "</table>\n",
       "</div>"
      ],
      "text/plain": [
       "   type                                              posts\n",
       "0  INFJ  'http://www.youtube.com/watch?v=qsXHcwe3krw|||...\n",
       "1  ENTP  'I'm finding the lack of me in these posts ver...\n",
       "2  INTP  'Good one  _____   https://www.youtube.com/wat...\n",
       "3  INTJ  'Dear INTP,   I enjoyed our conversation the o...\n",
       "4  ENTJ  'You're fired.|||That's another silly misconce..."
      ]
     },
     "execution_count": 312,
     "metadata": {},
     "output_type": "execute_result"
    }
   ],
   "source": [
    "data.head()"
   ]
  },
  {
   "cell_type": "markdown",
   "id": "0b8edbb1",
   "metadata": {},
   "source": [
    "## Data cleaning"
   ]
  },
  {
   "cell_type": "code",
   "execution_count": 313,
   "id": "996f44fc",
   "metadata": {},
   "outputs": [],
   "source": [
    "def cleaner(unclean_data):\n",
    "    sentence=unclean_data.lower()\n",
    "    sentence=re.sub('https?://[^\\s<>\"]+|www\\.[^\\s<>\"]+',' ',sentence)\n",
    "    sentence=re.sub('[^0-9a-z]',' ',sentence)\n",
    "    return sentence"
   ]
  },
  {
   "cell_type": "code",
   "execution_count": 314,
   "id": "fd8bf463",
   "metadata": {},
   "outputs": [],
   "source": [
    "data['posts']=data['posts'].apply(lambda x : cleaner(x))"
   ]
  },
  {
   "cell_type": "markdown",
   "id": "5600e023",
   "metadata": {},
   "source": [
    "## class expanding"
   ]
  },
  {
   "cell_type": "code",
   "execution_count": 315,
   "id": "e26c0e33",
   "metadata": {},
   "outputs": [],
   "source": [
    "processed_data = data.copy()\n",
    "processed_data = processed_data.reindex(columns=[\"posts\",'type','Extrovert','Sensitive','Thinking','Judging'])"
   ]
  },
  {
   "cell_type": "code",
   "execution_count": 316,
   "id": "4c0a2c8d",
   "metadata": {},
   "outputs": [],
   "source": [
    "for index,value in enumerate(processed_data['type']):\n",
    "    if 'E' in value:\n",
    "        processed_data.iloc[index,2]=1\n",
    "    else:\n",
    "        processed_data.iloc[index,2]=0\n",
    "    if 'S' in value:\n",
    "        processed_data.iloc[index,3]=1\n",
    "    else:\n",
    "        processed_data.iloc[index,3]=0\n",
    "    if 'T' in value:\n",
    "        processed_data.iloc[index,4]=1\n",
    "    else:\n",
    "        processed_data.iloc[index,4]=0\n",
    "    if 'J' in value:\n",
    "        processed_data.iloc[index,5]=1\n",
    "    else:\n",
    "        processed_data.iloc[index,5]=0"
   ]
  },
  {
   "cell_type": "code",
   "execution_count": 317,
   "id": "05933f57",
   "metadata": {},
   "outputs": [
    {
     "data": {
      "text/html": [
       "<div>\n",
       "<style scoped>\n",
       "    .dataframe tbody tr th:only-of-type {\n",
       "        vertical-align: middle;\n",
       "    }\n",
       "\n",
       "    .dataframe tbody tr th {\n",
       "        vertical-align: top;\n",
       "    }\n",
       "\n",
       "    .dataframe thead th {\n",
       "        text-align: right;\n",
       "    }\n",
       "</style>\n",
       "<table border=\"1\" class=\"dataframe\">\n",
       "  <thead>\n",
       "    <tr style=\"text-align: right;\">\n",
       "      <th></th>\n",
       "      <th>posts</th>\n",
       "      <th>type</th>\n",
       "      <th>Extrovert</th>\n",
       "      <th>Sensitive</th>\n",
       "      <th>Thinking</th>\n",
       "      <th>Judging</th>\n",
       "    </tr>\n",
       "  </thead>\n",
       "  <tbody>\n",
       "    <tr>\n",
       "      <th>0</th>\n",
       "      <td>and intj moments     sportscenter not top t...</td>\n",
       "      <td>INFJ</td>\n",
       "      <td>0</td>\n",
       "      <td>0</td>\n",
       "      <td>0</td>\n",
       "      <td>1</td>\n",
       "    </tr>\n",
       "    <tr>\n",
       "      <th>1</th>\n",
       "      <td>i m finding the lack of me in these posts ver...</td>\n",
       "      <td>ENTP</td>\n",
       "      <td>1</td>\n",
       "      <td>0</td>\n",
       "      <td>1</td>\n",
       "      <td>0</td>\n",
       "    </tr>\n",
       "    <tr>\n",
       "      <th>2</th>\n",
       "      <td>good one            course  to which i say i ...</td>\n",
       "      <td>INTP</td>\n",
       "      <td>0</td>\n",
       "      <td>0</td>\n",
       "      <td>1</td>\n",
       "      <td>0</td>\n",
       "    </tr>\n",
       "    <tr>\n",
       "      <th>3</th>\n",
       "      <td>dear intp    i enjoyed our conversation the o...</td>\n",
       "      <td>INTJ</td>\n",
       "      <td>0</td>\n",
       "      <td>0</td>\n",
       "      <td>1</td>\n",
       "      <td>1</td>\n",
       "    </tr>\n",
       "    <tr>\n",
       "      <th>4</th>\n",
       "      <td>you re fired    that s another silly misconce...</td>\n",
       "      <td>ENTJ</td>\n",
       "      <td>1</td>\n",
       "      <td>0</td>\n",
       "      <td>1</td>\n",
       "      <td>1</td>\n",
       "    </tr>\n",
       "  </tbody>\n",
       "</table>\n",
       "</div>"
      ],
      "text/plain": [
       "                                               posts  type  Extrovert  \\\n",
       "0     and intj moments     sportscenter not top t...  INFJ          0   \n",
       "1   i m finding the lack of me in these posts ver...  ENTP          1   \n",
       "2   good one            course  to which i say i ...  INTP          0   \n",
       "3   dear intp    i enjoyed our conversation the o...  INTJ          0   \n",
       "4   you re fired    that s another silly misconce...  ENTJ          1   \n",
       "\n",
       "   Sensitive  Thinking  Judging  \n",
       "0          0         0        1  \n",
       "1          0         1        0  \n",
       "2          0         1        0  \n",
       "3          0         1        1  \n",
       "4          0         1        1  "
      ]
     },
     "execution_count": 317,
     "metadata": {},
     "output_type": "execute_result"
    }
   ],
   "source": [
    "processed_data = processed_data.astype({\"Extrovert\": int,'Sensitive':int,'Thinking':int,'Judging':int}, errors='ignore')\n",
    "processed_data.head()"
   ]
  },
  {
   "cell_type": "markdown",
   "id": "49f52998",
   "metadata": {},
   "source": [
    "## Data visualization"
   ]
  },
  {
   "cell_type": "code",
   "execution_count": 318,
   "id": "c843d7c6",
   "metadata": {},
   "outputs": [
    {
     "data": {
      "image/png": "[encoded data removed]",
      "text/plain": [
       "<Figure size 720x720 with 1 Axes>"
      ]
     },
     "metadata": {},
     "output_type": "display_data"
    }
   ],
   "source": [
    "temp = dict(processed_data['type'].value_counts())\n",
    "fig = plt.figure(figsize =(10, 10))\n",
    "plt.pie(list(temp.values()),labels = list(temp.keys()))\n",
    "plt.show()"
   ]
  },
  {
   "cell_type": "code",
   "execution_count": 319,
   "id": "167fc5e0",
   "metadata": {},
   "outputs": [
    {
     "data": {
      "image/png": "[encoded data removed]",
      "text/plain": [
       "<Figure size 432x288 with 1 Axes>"
      ]
     },
     "metadata": {
      "needs_background": "light"
     },
     "output_type": "display_data"
    },
    {
     "name": "stdout",
     "output_type": "stream",
     "text": [
      "   ['Extrovert', 'Sesnitive', 'Thinking', 'Judging']\n"
     ]
    }
   ],
   "source": [
    "labels = ['Extrovert','Sesnitive','Thinking','Judging']\n",
    "extro_list = list(processed_data['Extrovert'].value_counts())\n",
    "sensi_list = list(processed_data['Sensitive'].value_counts())\n",
    "think_list = list(processed_data['Thinking'].value_counts())\n",
    "judge_list = list(processed_data['Judging'].value_counts())\n",
    "false_values = [extro_list[0],sensi_list[0],think_list[0],judge_list[0]]\n",
    "true_values = [extro_list[1],sensi_list[1],think_list[1],judge_list[1]]\n",
    "\n",
    "x = np.arange(len(labels))  # the label locations\n",
    "width = 0.25  # the width of the bars\n",
    "fig, ax = plt.subplots()\n",
    "rects1 = ax.bar(x - width/2, true_values, width, label='True')\n",
    "rects2 = ax.bar(x + width/2, false_values, width, label='False')\n",
    "ax.set_ylabel('Count')\n",
    "ax.set_title('Type vs count')\n",
    "ax.set_xticks(x)\n",
    "ax.legend()\n",
    "ax.bar_label(rects1, padding=2)\n",
    "ax.bar_label(rects2, padding=2)\n",
    "\n",
    "\n",
    "plt.show()\n",
    "print(\"  \",labels)"
   ]
  },
  {
   "cell_type": "markdown",
   "id": "0952c86f",
   "metadata": {},
   "source": [
    "## Feature seperation "
   ]
  },
  {
   "cell_type": "code",
   "execution_count": 320,
   "id": "0e3f1855",
   "metadata": {},
   "outputs": [],
   "source": [
    "data_X = processed_data['posts']\n",
    "data_Y = processed_data['type']\n",
    "data_1 = processed_data['Extrovert']\n",
    "data_2 = processed_data['Sensitive']\n",
    "data_3 = processed_data['Thinking']\n",
    "data_4 = processed_data['Judging']\n",
    "# for multi-class classification\n",
    "X_train,X_test,Y_train,Y_test = train_test_split(data_X,data_Y,test_size=.2,random_state=1)\n",
    "# for binary classification \n",
    "X_train_1,X_test_1,Y_train_1,Y_test_1 = train_test_split(data_X,data_1,test_size=.2,random_state=1)\n",
    "X_train_2,X_test_2,Y_train_2,Y_test_2 = train_test_split(data_X,data_2,test_size=.2,random_state=1)\n",
    "X_train_3,X_test_3,Y_train_3,Y_test_3 = train_test_split(data_X,data_3,test_size=.2,random_state=1)\n",
    "X_train_4,X_test_4,Y_train_4,Y_test_4 = train_test_split(data_X,data_4,test_size=.2,random_state=1)"
   ]
  },
  {
   "cell_type": "markdown",
   "id": "dcd7bba1",
   "metadata": {},
   "source": [
    "## Data preprocessing (NLP)"
   ]
  },
  {
   "cell_type": "code",
   "execution_count": 321,
   "id": "38aabd31",
   "metadata": {},
   "outputs": [],
   "source": [
    "class Lemmatizer(object):\n",
    "    def __init__(self):\n",
    "        self.lemmatizer = WordNetLemmatizer()\n",
    "    def __call__(self, sentence):\n",
    "        return [self.lemmatizer.lemmatize(word) for word in sentence.split() if len(word)>2]\n",
    "\n",
    "class Tokenizer(object):\n",
    "    def __init__(self):\n",
    "        self.tokenizer = TfidfVectorizer(max_features=1000,tokenizer=Lemmatizer(),stop_words='english')\n",
    "    def tfidf(self,train,test):\n",
    "        train = self.tokenizer.fit_transform(train).toarray()\n",
    "        test = self.tokenizer.transform(test).toarray()\n",
    "        return train,test"
   ]
  },
  {
   "cell_type": "code",
   "execution_count": 322,
   "id": "72d1cd16",
   "metadata": {},
   "outputs": [],
   "source": [
    "token = Tokenizer()\n",
    "X_train,X_test = token.tfidf(X_train,X_test)\n",
    "X_train_1,X_test_1 = token.tfidf(X_train_1,X_test_1)\n",
    "X_train_2,X_test_2 = token.tfidf(X_train_2,X_test_2)\n",
    "X_train_3,X_test_3 = token.tfidf(X_train_3,X_test_3)\n",
    "X_train_4,X_test_4 = token.tfidf(X_train_4,X_test_4)"
   ]
  },
  {
   "cell_type": "code",
   "execution_count": 323,
   "id": "21b3d07e",
   "metadata": {},
   "outputs": [],
   "source": [
    "encoder = LabelEncoder()\n",
    "Y_train = encoder.fit_transform(Y_train)\n",
    "Y_test = encoder.transform(Y_test)"
   ]
  },
  {
   "cell_type": "markdown",
   "id": "3310c23e",
   "metadata": {},
   "source": [
    "## CART - Decision tree classifier with multiple class value"
   ]
  },
  {
   "cell_type": "code",
   "execution_count": 324,
   "id": "d3e68685",
   "metadata": {},
   "outputs": [
    {
     "name": "stdout",
     "output_type": "stream",
     "text": [
      "0.4553314121037464\n"
     ]
    },
    {
     "data": {
      "text/plain": [
       "array([[ 20,   0,   2,   1,   0,   1,   0,   0,   5,   2,   1,   1,   0,\n",
       "          1,   0,   0],\n",
       "       [  2,  62,   0,   7,   0,   1,   0,   0,  16,  19,  12,  11,   1,\n",
       "          6,   7,   3],\n",
       "       [  0,   4,  13,   4,   0,   0,   0,   1,   8,   5,   8,   3,   2,\n",
       "          1,   0,   0],\n",
       "       [  2,   9,   4,  55,   1,   0,   0,   0,  20,  21,  12,  21,   1,\n",
       "          1,   2,   5],\n",
       "       [  0,   2,   0,   1,   0,   0,   0,   1,   1,   3,   2,   1,   0,\n",
       "          0,   0,   0],\n",
       "       [  0,   1,   0,   2,   0,   1,   0,   0,   1,   3,   1,   0,   0,\n",
       "          1,   0,   1],\n",
       "       [  0,   0,   1,   1,   0,   0,   2,   0,   0,   0,   1,   1,   0,\n",
       "          0,   0,   0],\n",
       "       [  1,   0,   0,   3,   0,   0,   1,   2,   1,   6,   1,   1,   0,\n",
       "          0,   0,   0],\n",
       "       [  8,  11,   0,  15,   0,   0,   0,   1, 150,  49,  14,  21,   4,\n",
       "          1,   3,   3],\n",
       "       [  6,  15,   7,  13,   1,   1,   1,   2,  54, 204,  21,  25,   7,\n",
       "          8,   7,   3],\n",
       "       [  1,  13,   7,   6,   3,   1,   1,   2,  22,  30, 106,  19,   2,\n",
       "          4,   2,   3],\n",
       "       [  5,   9,   4,  14,   3,   2,   1,   1,  28,  31,  17, 113,   3,\n",
       "          8,   5,   4],\n",
       "       [  0,   1,   1,   0,   0,   0,   1,   2,   4,   2,   1,   6,   5,\n",
       "          2,   2,   1],\n",
       "       [  0,   6,   1,   3,   0,   0,   0,   2,   3,   6,   4,   4,   0,\n",
       "         15,   1,   3],\n",
       "       [  0,   3,   1,   3,   0,   0,   0,   1,   5,   9,   4,   4,   2,\n",
       "          0,  15,   0],\n",
       "       [  1,   6,   0,   3,   0,   0,   0,   0,   2,   5,   4,   8,   1,\n",
       "          2,   0,  27]])"
      ]
     },
     "execution_count": 324,
     "metadata": {},
     "output_type": "execute_result"
    }
   ],
   "source": [
    "tree=DecisionTreeClassifier(max_depth=100,class_weight='balanced',max_features=1000,criterion='gini')\n",
    "tree.fit(X_train,Y_train)\n",
    "pred = tree.predict(X_test)\n",
    "print(accuracy_score(pred,Y_test))\n",
    "confusion_matrix(Y_test,pred)"
   ]
  },
  {
   "cell_type": "markdown",
   "id": "46a36a7c",
   "metadata": {},
   "source": [
    "## SVM - Kernel SVC with multiple class value"
   ]
  },
  {
   "cell_type": "code",
   "execution_count": 325,
   "id": "52d04d53",
   "metadata": {},
   "outputs": [
    {
     "name": "stdout",
     "output_type": "stream",
     "text": [
      "0.06974063400576369\n"
     ]
    },
    {
     "data": {
      "text/plain": [
       "array([[ 13,  21,   0,   0,   0,   0,   0,   0,   0,   0,   0,   0,   0,\n",
       "          0,   0,   0],\n",
       "       [ 39, 108,   0,   0,   0,   0,   0,   0,   0,   0,   0,   0,   0,\n",
       "          0,   0,   0],\n",
       "       [ 25,  24,   0,   0,   0,   0,   0,   0,   0,   0,   0,   0,   0,\n",
       "          0,   0,   0],\n",
       "       [ 44, 110,   0,   0,   0,   0,   0,   0,   0,   0,   0,   0,   0,\n",
       "          0,   0,   0],\n",
       "       [  7,   4,   0,   0,   0,   0,   0,   0,   0,   0,   0,   0,   0,\n",
       "          0,   0,   0],\n",
       "       [  5,   6,   0,   0,   0,   0,   0,   0,   0,   0,   0,   0,   0,\n",
       "          0,   0,   0],\n",
       "       [  3,   3,   0,   0,   0,   0,   0,   0,   0,   0,   0,   0,   0,\n",
       "          0,   0,   0],\n",
       "       [  6,  10,   0,   0,   0,   0,   0,   0,   0,   0,   0,   0,   0,\n",
       "          0,   0,   0],\n",
       "       [256,  24,   0,   0,   0,   0,   0,   0,   0,   0,   0,   0,   0,\n",
       "          0,   0,   0],\n",
       "       [350,  25,   0,   0,   0,   0,   0,   0,   0,   0,   0,   0,   0,\n",
       "          0,   0,   0],\n",
       "       [198,  24,   0,   0,   0,   0,   0,   0,   0,   0,   0,   0,   0,\n",
       "          0,   0,   0],\n",
       "       [232,  16,   0,   0,   0,   0,   0,   0,   0,   0,   0,   0,   0,\n",
       "          0,   0,   0],\n",
       "       [ 25,   3,   0,   0,   0,   0,   0,   0,   0,   0,   0,   0,   0,\n",
       "          0,   0,   0],\n",
       "       [ 42,   6,   0,   0,   0,   0,   0,   0,   0,   0,   0,   0,   0,\n",
       "          0,   0,   0],\n",
       "       [ 41,   6,   0,   0,   0,   0,   0,   0,   0,   0,   0,   0,   0,\n",
       "          0,   0,   0],\n",
       "       [ 54,   5,   0,   0,   0,   0,   0,   0,   0,   0,   0,   0,   0,\n",
       "          0,   0,   0]])"
      ]
     },
     "execution_count": 325,
     "metadata": {},
     "output_type": "execute_result"
    }
   ],
   "source": [
    "model_svc=SVC(kernel='rbf',decision_function_shape='ovo',class_weight='balanced')\n",
    "model_svc.fit(X_train,Y_train)\n",
    "pred = classifier.predict(X_test)\n",
    "print(accuracy_score(pred,Y_test))\n",
    "confusion_matrix(Y_test,pred)"
   ]
  },
  {
   "cell_type": "markdown",
   "id": "355c165e",
   "metadata": {},
   "source": [
    "## SVM - Kernel SVC as binary classifier"
   ]
  },
  {
   "cell_type": "code",
   "execution_count": 326,
   "id": "15db3d98",
   "metadata": {},
   "outputs": [
    {
     "name": "stdout",
     "output_type": "stream",
     "text": [
      "0.8553314121037464\n"
     ]
    },
    {
     "data": {
      "text/plain": [
       "array([[1198,  109],\n",
       "       [ 142,  286]])"
      ]
     },
     "execution_count": 326,
     "metadata": {},
     "output_type": "execute_result"
    }
   ],
   "source": [
    "classifier_1 = SVC(class_weight='balanced',kernel='rbf')\n",
    "classifier_1.fit(X_train_1,Y_train_1)\n",
    "pred_1 = classifier_1.predict(X_test_1)\n",
    "print(accuracy_score(pred_1,Y_test_1))\n",
    "confusion_matrix(Y_test_1,pred_1)"
   ]
  },
  {
   "cell_type": "code",
   "execution_count": 327,
   "id": "c2f56201",
   "metadata": {},
   "outputs": [
    {
     "name": "stdout",
     "output_type": "stream",
     "text": [
      "0.9077809798270894\n"
     ]
    },
    {
     "data": {
      "text/plain": [
       "array([[1443,   66],\n",
       "       [  94,  132]])"
      ]
     },
     "execution_count": 327,
     "metadata": {},
     "output_type": "execute_result"
    }
   ],
   "source": [
    "classifier_2 = SVC(class_weight='balanced',kernel='rbf')\n",
    "classifier_2.fit(X_train_2,Y_train_2)\n",
    "pred_2 = classifier_2.predict(X_test_2)\n",
    "print(accuracy_score(pred_2,Y_test_2))\n",
    "confusion_matrix(Y_test_2,pred_2)"
   ]
  },
  {
   "cell_type": "code",
   "execution_count": 328,
   "id": "c00135e3",
   "metadata": {},
   "outputs": [
    {
     "name": "stdout",
     "output_type": "stream",
     "text": [
      "0.8662824207492795\n"
     ]
    },
    {
     "data": {
      "text/plain": [
       "array([[821, 113],\n",
       "       [119, 682]])"
      ]
     },
     "execution_count": 328,
     "metadata": {},
     "output_type": "execute_result"
    }
   ],
   "source": [
    "classifier_3 = SVC(class_weight='balanced',kernel='rbf')\n",
    "classifier_3.fit(X_train_3,Y_train_3)\n",
    "pred_3 = classifier_3.predict(X_test_3)\n",
    "print(accuracy_score(pred_3,Y_test_3))\n",
    "confusion_matrix(Y_test_3,pred_3)"
   ]
  },
  {
   "cell_type": "code",
   "execution_count": 329,
   "id": "fcb2bbda",
   "metadata": {},
   "outputs": [
    {
     "name": "stdout",
     "output_type": "stream",
     "text": [
      "0.7994236311239193\n"
     ]
    },
    {
     "data": {
      "text/plain": [
       "array([[895, 163],\n",
       "       [185, 492]])"
      ]
     },
     "execution_count": 329,
     "metadata": {},
     "output_type": "execute_result"
    }
   ],
   "source": [
    "classifier_4 = SVC(class_weight='balanced',kernel='rbf')\n",
    "classifier_4.fit(X_train_4,Y_train_4)\n",
    "pred_4 = classifier_4.predict(X_test_4)\n",
    "print(accuracy_score(pred_4,Y_test_4))\n",
    "confusion_matrix(Y_test_4,pred_4)"
   ]
  },
  {
   "cell_type": "markdown",
   "id": "cf2882ba",
   "metadata": {},
   "source": [
    "## CART - Decision tree as binary classifier"
   ]
  },
  {
   "cell_type": "code",
   "execution_count": 330,
   "id": "cddc4da9",
   "metadata": {},
   "outputs": [
    {
     "name": "stdout",
     "output_type": "stream",
     "text": [
      "0.7780979827089337\n"
     ]
    },
    {
     "data": {
      "text/plain": [
       "array([[1124,  183],\n",
       "       [ 202,  226]])"
      ]
     },
     "execution_count": 330,
     "metadata": {},
     "output_type": "execute_result"
    }
   ],
   "source": [
    "tree_1=DecisionTreeClassifier(max_depth=100,class_weight='balanced')\n",
    "tree_1.fit(X_train_1,Y_train_1)\n",
    "pred_1 = tree_1.predict(X_test_1)\n",
    "print(accuracy_score(pred_1,Y_test_1))\n",
    "confusion_matrix(Y_test_1,pred_1)"
   ]
  },
  {
   "cell_type": "code",
   "execution_count": 331,
   "id": "3ca547b1",
   "metadata": {},
   "outputs": [
    {
     "name": "stdout",
     "output_type": "stream",
     "text": [
      "0.8443804034582133\n"
     ]
    },
    {
     "data": {
      "text/plain": [
       "array([[1364,  145],\n",
       "       [ 125,  101]])"
      ]
     },
     "execution_count": 331,
     "metadata": {},
     "output_type": "execute_result"
    }
   ],
   "source": [
    "tree_2=DecisionTreeClassifier(max_depth=100,class_weight='balanced')\n",
    "tree_2.fit(X_train_2,Y_train_2)\n",
    "pred_2 = tree_2.predict(X_test_2)\n",
    "print(accuracy_score(pred_2,Y_test_2))\n",
    "confusion_matrix(Y_test_2,pred_2)"
   ]
  },
  {
   "cell_type": "code",
   "execution_count": 332,
   "id": "8c9b86d4",
   "metadata": {
    "scrolled": true
   },
   "outputs": [
    {
     "name": "stdout",
     "output_type": "stream",
     "text": [
      "0.7256484149855907\n"
     ]
    },
    {
     "data": {
      "text/plain": [
       "array([[707, 227],\n",
       "       [249, 552]])"
      ]
     },
     "execution_count": 332,
     "metadata": {},
     "output_type": "execute_result"
    }
   ],
   "source": [
    "tree_3=DecisionTreeClassifier(max_depth=100,class_weight='balanced')\n",
    "tree_3.fit(X_train_3,Y_train_3)\n",
    "pred_3 = tree_3.predict(X_test_3)\n",
    "print(accuracy_score(pred_3,Y_test_3))\n",
    "confusion_matrix(Y_test_3,pred_3)"
   ]
  },
  {
   "cell_type": "code",
   "execution_count": 333,
   "id": "45f4e65b",
   "metadata": {},
   "outputs": [
    {
     "name": "stdout",
     "output_type": "stream",
     "text": [
      "0.7279538904899135\n"
     ]
    },
    {
     "data": {
      "text/plain": [
       "array([[837, 221],\n",
       "       [251, 426]])"
      ]
     },
     "execution_count": 333,
     "metadata": {},
     "output_type": "execute_result"
    }
   ],
   "source": [
    "tree_4=DecisionTreeClassifier(max_depth=100,class_weight='balanced')\n",
    "tree_4.fit(X_train_4,Y_train_4)\n",
    "pred_4 = tree_4.predict(X_test_4)\n",
    "print(accuracy_score(pred_4,Y_test_4))\n",
    "confusion_matrix(Y_test_4,pred_4)"
   ]
  }
 ],
 "metadata": {
  "kernelspec": {
   "display_name": "Python 3 (ipykernel)",
   "language": "python",
   "name": "python3"
  },
  "language_info": {
   "codemirror_mode": {
    "name": "ipython",
    "version": 3
   },
   "file_extension": ".py",
   "mimetype": "text/x-python",
   "name": "python",
   "nbconvert_exporter": "python",
   "pygments_lexer": "ipython3",
   "version": "3.9.7"
  }
 },
 "nbformat": 4,
 "nbformat_minor": 5
}
